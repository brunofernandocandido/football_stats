{
  "nbformat": 4,
  "nbformat_minor": 0,
  "metadata": {
    "colab": {
      "provenance": [],
      "authorship_tag": "ABX9TyO7fFZWIQ19h0yOPOOu0nCx",
      "include_colab_link": true
    },
    "kernelspec": {
      "name": "python3",
      "display_name": "Python 3"
    },
    "language_info": {
      "name": "python"
    }
  },
  "cells": [
    {
      "cell_type": "markdown",
      "metadata": {
        "id": "view-in-github",
        "colab_type": "text"
      },
      "source": [
        "<a href=\"https://colab.research.google.com/github/brunofernandocandido/football_stats/blob/main/player_stats.ipynb\" target=\"_parent\"><img src=\"https://colab.research.google.com/assets/colab-badge.svg\" alt=\"Open In Colab\"/></a>"
      ]
    },
    {
      "cell_type": "markdown",
      "source": [
        "Importando bibliotecas"
      ],
      "metadata": {
        "id": "M5voIwQ2OsK0"
      }
    },
    {
      "cell_type": "code",
      "execution_count": 1,
      "metadata": {
        "id": "TBAiqU-FNfot"
      },
      "outputs": [],
      "source": [
        "import pandas as pd\n",
        "import numpy as np\n",
        "import matplotlib.pyplot as plt\n",
        "import seaborn as sns"
      ]
    },
    {
      "cell_type": "markdown",
      "source": [
        "Lendo dataset do github"
      ],
      "metadata": {
        "id": "Is-Ayk-aOvRd"
      }
    },
    {
      "cell_type": "code",
      "source": [
        "url = 'https://raw.githubusercontent.com/brunofernandocandido/football_stats/main/player_stats.xlsx'\n",
        "df=pd.read_excel(url) "
      ],
      "metadata": {
        "id": "eBZFzHuJORmU"
      },
      "execution_count": 2,
      "outputs": []
    },
    {
      "cell_type": "markdown",
      "source": [
        "Apresentando o dataset"
      ],
      "metadata": {
        "id": "C8xXKmLaO22W"
      }
    },
    {
      "cell_type": "code",
      "source": [
        "df"
      ],
      "metadata": {
        "colab": {
          "base_uri": "https://localhost:8080/",
          "height": 363
        },
        "id": "s1EXxdnhOWWo",
        "outputId": "b8397bdd-af18-468c-d569-c5bb9cacf14c"
      },
      "execution_count": 3,
      "outputs": [
        {
          "output_type": "execute_result",
          "data": {
            "text/plain": [
              "                     Top Team Scorer   G Pos PD   cm  Age    GC  Assists  Part\n",
              "0                 Robert Lewandowski  29   A  D  184   34  0.17        6    35\n",
              "1                     Victor Osimhen  22   A  D  186   24  0.19        4    26\n",
              "2                      Kylian Mbappé  23   A  D  178   24  0.19        4    27\n",
              "3                         Martinelli  15   A  D  180   21  0.20        5    20\n",
              "4                     Erling Haaland  35   A  C  194   22  0.31        7    42\n",
              "5  Youcef Belaïli Mounaim El Idrissy   6   M  D  178   31  0.14        5    11\n",
              "6      Cyriel Dessers Daniel Ciofani   6   A  A  184   28  0.12        2     8\n",
              "7                  Manolo Gabbiadini   6   F  C  186   31  0.10        2     8\n",
              "8                         Pere Milla   6   F  C  179   30  0.20        1     7\n",
              "9        Adrien Hunou Sofiane Boufal   4   M  D  176   29  0.10        1     5"
            ],
            "text/html": [
              "\n",
              "  <div id=\"df-ee541f42-e424-4436-a165-13e9e4cf46a4\">\n",
              "    <div class=\"colab-df-container\">\n",
              "      <div>\n",
              "<style scoped>\n",
              "    .dataframe tbody tr th:only-of-type {\n",
              "        vertical-align: middle;\n",
              "    }\n",
              "\n",
              "    .dataframe tbody tr th {\n",
              "        vertical-align: top;\n",
              "    }\n",
              "\n",
              "    .dataframe thead th {\n",
              "        text-align: right;\n",
              "    }\n",
              "</style>\n",
              "<table border=\"1\" class=\"dataframe\">\n",
              "  <thead>\n",
              "    <tr style=\"text-align: right;\">\n",
              "      <th></th>\n",
              "      <th>Top Team Scorer</th>\n",
              "      <th>G</th>\n",
              "      <th>Pos</th>\n",
              "      <th>PD</th>\n",
              "      <th>cm</th>\n",
              "      <th>Age</th>\n",
              "      <th>GC</th>\n",
              "      <th>Assists</th>\n",
              "      <th>Part</th>\n",
              "    </tr>\n",
              "  </thead>\n",
              "  <tbody>\n",
              "    <tr>\n",
              "      <th>0</th>\n",
              "      <td>Robert Lewandowski</td>\n",
              "      <td>29</td>\n",
              "      <td>A</td>\n",
              "      <td>D</td>\n",
              "      <td>184</td>\n",
              "      <td>34</td>\n",
              "      <td>0.17</td>\n",
              "      <td>6</td>\n",
              "      <td>35</td>\n",
              "    </tr>\n",
              "    <tr>\n",
              "      <th>1</th>\n",
              "      <td>Victor Osimhen</td>\n",
              "      <td>22</td>\n",
              "      <td>A</td>\n",
              "      <td>D</td>\n",
              "      <td>186</td>\n",
              "      <td>24</td>\n",
              "      <td>0.19</td>\n",
              "      <td>4</td>\n",
              "      <td>26</td>\n",
              "    </tr>\n",
              "    <tr>\n",
              "      <th>2</th>\n",
              "      <td>Kylian Mbappé</td>\n",
              "      <td>23</td>\n",
              "      <td>A</td>\n",
              "      <td>D</td>\n",
              "      <td>178</td>\n",
              "      <td>24</td>\n",
              "      <td>0.19</td>\n",
              "      <td>4</td>\n",
              "      <td>27</td>\n",
              "    </tr>\n",
              "    <tr>\n",
              "      <th>3</th>\n",
              "      <td>Martinelli</td>\n",
              "      <td>15</td>\n",
              "      <td>A</td>\n",
              "      <td>D</td>\n",
              "      <td>180</td>\n",
              "      <td>21</td>\n",
              "      <td>0.20</td>\n",
              "      <td>5</td>\n",
              "      <td>20</td>\n",
              "    </tr>\n",
              "    <tr>\n",
              "      <th>4</th>\n",
              "      <td>Erling Haaland</td>\n",
              "      <td>35</td>\n",
              "      <td>A</td>\n",
              "      <td>C</td>\n",
              "      <td>194</td>\n",
              "      <td>22</td>\n",
              "      <td>0.31</td>\n",
              "      <td>7</td>\n",
              "      <td>42</td>\n",
              "    </tr>\n",
              "    <tr>\n",
              "      <th>5</th>\n",
              "      <td>Youcef Belaïli Mounaim El Idrissy</td>\n",
              "      <td>6</td>\n",
              "      <td>M</td>\n",
              "      <td>D</td>\n",
              "      <td>178</td>\n",
              "      <td>31</td>\n",
              "      <td>0.14</td>\n",
              "      <td>5</td>\n",
              "      <td>11</td>\n",
              "    </tr>\n",
              "    <tr>\n",
              "      <th>6</th>\n",
              "      <td>Cyriel Dessers Daniel Ciofani</td>\n",
              "      <td>6</td>\n",
              "      <td>A</td>\n",
              "      <td>A</td>\n",
              "      <td>184</td>\n",
              "      <td>28</td>\n",
              "      <td>0.12</td>\n",
              "      <td>2</td>\n",
              "      <td>8</td>\n",
              "    </tr>\n",
              "    <tr>\n",
              "      <th>7</th>\n",
              "      <td>Manolo Gabbiadini</td>\n",
              "      <td>6</td>\n",
              "      <td>F</td>\n",
              "      <td>C</td>\n",
              "      <td>186</td>\n",
              "      <td>31</td>\n",
              "      <td>0.10</td>\n",
              "      <td>2</td>\n",
              "      <td>8</td>\n",
              "    </tr>\n",
              "    <tr>\n",
              "      <th>8</th>\n",
              "      <td>Pere Milla</td>\n",
              "      <td>6</td>\n",
              "      <td>F</td>\n",
              "      <td>C</td>\n",
              "      <td>179</td>\n",
              "      <td>30</td>\n",
              "      <td>0.20</td>\n",
              "      <td>1</td>\n",
              "      <td>7</td>\n",
              "    </tr>\n",
              "    <tr>\n",
              "      <th>9</th>\n",
              "      <td>Adrien Hunou Sofiane Boufal</td>\n",
              "      <td>4</td>\n",
              "      <td>M</td>\n",
              "      <td>D</td>\n",
              "      <td>176</td>\n",
              "      <td>29</td>\n",
              "      <td>0.10</td>\n",
              "      <td>1</td>\n",
              "      <td>5</td>\n",
              "    </tr>\n",
              "  </tbody>\n",
              "</table>\n",
              "</div>\n",
              "      <button class=\"colab-df-convert\" onclick=\"convertToInteractive('df-ee541f42-e424-4436-a165-13e9e4cf46a4')\"\n",
              "              title=\"Convert this dataframe to an interactive table.\"\n",
              "              style=\"display:none;\">\n",
              "        \n",
              "  <svg xmlns=\"http://www.w3.org/2000/svg\" height=\"24px\"viewBox=\"0 0 24 24\"\n",
              "       width=\"24px\">\n",
              "    <path d=\"M0 0h24v24H0V0z\" fill=\"none\"/>\n",
              "    <path d=\"M18.56 5.44l.94 2.06.94-2.06 2.06-.94-2.06-.94-.94-2.06-.94 2.06-2.06.94zm-11 1L8.5 8.5l.94-2.06 2.06-.94-2.06-.94L8.5 2.5l-.94 2.06-2.06.94zm10 10l.94 2.06.94-2.06 2.06-.94-2.06-.94-.94-2.06-.94 2.06-2.06.94z\"/><path d=\"M17.41 7.96l-1.37-1.37c-.4-.4-.92-.59-1.43-.59-.52 0-1.04.2-1.43.59L10.3 9.45l-7.72 7.72c-.78.78-.78 2.05 0 2.83L4 21.41c.39.39.9.59 1.41.59.51 0 1.02-.2 1.41-.59l7.78-7.78 2.81-2.81c.8-.78.8-2.07 0-2.86zM5.41 20L4 18.59l7.72-7.72 1.47 1.35L5.41 20z\"/>\n",
              "  </svg>\n",
              "      </button>\n",
              "      \n",
              "  <style>\n",
              "    .colab-df-container {\n",
              "      display:flex;\n",
              "      flex-wrap:wrap;\n",
              "      gap: 12px;\n",
              "    }\n",
              "\n",
              "    .colab-df-convert {\n",
              "      background-color: #E8F0FE;\n",
              "      border: none;\n",
              "      border-radius: 50%;\n",
              "      cursor: pointer;\n",
              "      display: none;\n",
              "      fill: #1967D2;\n",
              "      height: 32px;\n",
              "      padding: 0 0 0 0;\n",
              "      width: 32px;\n",
              "    }\n",
              "\n",
              "    .colab-df-convert:hover {\n",
              "      background-color: #E2EBFA;\n",
              "      box-shadow: 0px 1px 2px rgba(60, 64, 67, 0.3), 0px 1px 3px 1px rgba(60, 64, 67, 0.15);\n",
              "      fill: #174EA6;\n",
              "    }\n",
              "\n",
              "    [theme=dark] .colab-df-convert {\n",
              "      background-color: #3B4455;\n",
              "      fill: #D2E3FC;\n",
              "    }\n",
              "\n",
              "    [theme=dark] .colab-df-convert:hover {\n",
              "      background-color: #434B5C;\n",
              "      box-shadow: 0px 1px 3px 1px rgba(0, 0, 0, 0.15);\n",
              "      filter: drop-shadow(0px 1px 2px rgba(0, 0, 0, 0.3));\n",
              "      fill: #FFFFFF;\n",
              "    }\n",
              "  </style>\n",
              "\n",
              "      <script>\n",
              "        const buttonEl =\n",
              "          document.querySelector('#df-ee541f42-e424-4436-a165-13e9e4cf46a4 button.colab-df-convert');\n",
              "        buttonEl.style.display =\n",
              "          google.colab.kernel.accessAllowed ? 'block' : 'none';\n",
              "\n",
              "        async function convertToInteractive(key) {\n",
              "          const element = document.querySelector('#df-ee541f42-e424-4436-a165-13e9e4cf46a4');\n",
              "          const dataTable =\n",
              "            await google.colab.kernel.invokeFunction('convertToInteractive',\n",
              "                                                     [key], {});\n",
              "          if (!dataTable) return;\n",
              "\n",
              "          const docLinkHtml = 'Like what you see? Visit the ' +\n",
              "            '<a target=\"_blank\" href=https://colab.research.google.com/notebooks/data_table.ipynb>data table notebook</a>'\n",
              "            + ' to learn more about interactive tables.';\n",
              "          element.innerHTML = '';\n",
              "          dataTable['output_type'] = 'display_data';\n",
              "          await google.colab.output.renderOutput(dataTable, element);\n",
              "          const docLink = document.createElement('div');\n",
              "          docLink.innerHTML = docLinkHtml;\n",
              "          element.appendChild(docLink);\n",
              "        }\n",
              "      </script>\n",
              "    </div>\n",
              "  </div>\n",
              "  "
            ]
          },
          "metadata": {},
          "execution_count": 3
        }
      ]
    },
    {
      "cell_type": "markdown",
      "source": [
        "Calculando média de conversão, gols, assistências, altura e idade"
      ],
      "metadata": {
        "id": "a1k4X_QsP0fZ"
      }
    },
    {
      "cell_type": "code",
      "source": [
        "df['GC'].mean()"
      ],
      "metadata": {
        "colab": {
          "base_uri": "https://localhost:8080/"
        },
        "id": "BUFUUy3PP2Zg",
        "outputId": "8575b800-490e-4afe-dfc8-4fe0d4d69cb6"
      },
      "execution_count": 26,
      "outputs": [
        {
          "output_type": "execute_result",
          "data": {
            "text/plain": [
              "0.172"
            ]
          },
          "metadata": {},
          "execution_count": 26
        }
      ]
    },
    {
      "cell_type": "code",
      "source": [
        "df['G'].mean()\n"
      ],
      "metadata": {
        "colab": {
          "base_uri": "https://localhost:8080/"
        },
        "id": "0dK3hIuqYclG",
        "outputId": "d8636961-49bb-421d-ee56-b8ca8b956e03"
      },
      "execution_count": 27,
      "outputs": [
        {
          "output_type": "execute_result",
          "data": {
            "text/plain": [
              "15.2"
            ]
          },
          "metadata": {},
          "execution_count": 27
        }
      ]
    },
    {
      "cell_type": "code",
      "source": [
        "df['Assists'].mean()"
      ],
      "metadata": {
        "colab": {
          "base_uri": "https://localhost:8080/"
        },
        "id": "E7rF5iBTYcv6",
        "outputId": "42b96d60-90e4-46f7-e00f-99fda25a9e04"
      },
      "execution_count": 29,
      "outputs": [
        {
          "output_type": "execute_result",
          "data": {
            "text/plain": [
              "3.7"
            ]
          },
          "metadata": {},
          "execution_count": 29
        }
      ]
    },
    {
      "cell_type": "code",
      "source": [
        "df['cm'].mean()"
      ],
      "metadata": {
        "colab": {
          "base_uri": "https://localhost:8080/"
        },
        "id": "32U4CLUfYuVs",
        "outputId": "0a28b6ab-23b4-4e14-d3e9-d29e9433eb92"
      },
      "execution_count": 30,
      "outputs": [
        {
          "output_type": "execute_result",
          "data": {
            "text/plain": [
              "182.5"
            ]
          },
          "metadata": {},
          "execution_count": 30
        }
      ]
    },
    {
      "cell_type": "code",
      "source": [
        "df['Age'].mean()"
      ],
      "metadata": {
        "colab": {
          "base_uri": "https://localhost:8080/"
        },
        "id": "HajgHt89YujX",
        "outputId": "e7d3f831-3aa1-4cc0-e4f6-578310f0d076"
      },
      "execution_count": 31,
      "outputs": [
        {
          "output_type": "execute_result",
          "data": {
            "text/plain": [
              "27.4"
            ]
          },
          "metadata": {},
          "execution_count": 31
        }
      ]
    },
    {
      "cell_type": "markdown",
      "source": [
        "Histograma da taxa de conversão dos jogadores, gols, assistências, altura e idade"
      ],
      "metadata": {
        "id": "IcGkZesbO7mk"
      }
    },
    {
      "cell_type": "code",
      "source": [
        "plt.subplot(1,5,1) \n",
        "plt.hist(df['GC'], ec=\"black\") \n",
        "plt.title('Taxa de conversão')\n",
        "plt.xlabel('Conversão')\n",
        "plt.ylabel('Jogadores')\n",
        "\n",
        "plt.subplot(1,5,3) \n",
        "plt.hist(df['G'], ec=\"black\") \n",
        "plt.title('Gols')\n",
        "plt.xlabel('Gols')\n",
        "plt.ylabel('Jogadores')\n",
        "\n",
        "plt.subplot(1,5,5) \n",
        "plt.hist(df['Assists'], ec=\"black\") \n",
        "plt.title('Assistências')\n",
        "plt.xlabel('Assistências')\n",
        "plt.ylabel('Jogadores')\n",
        "\n",
        "plt.subplot(1,5,7) \n",
        "plt.hist(df['Assists'], ec=\"black\") \n",
        "plt.title('Assistências')\n",
        "plt.xlabel('Assistências')\n",
        "plt.ylabel('Jogadores')"
      ],
      "metadata": {
        "colab": {
          "base_uri": "https://localhost:8080/",
          "height": 489
        },
        "id": "V9S6wBydOcvL",
        "outputId": "6c74157a-7459-469c-c721-15d1599d9e23"
      },
      "execution_count": 24,
      "outputs": [
        {
          "output_type": "execute_result",
          "data": {
            "text/plain": [
              "Text(0, 0.5, 'Jogadores')"
            ]
          },
          "metadata": {},
          "execution_count": 24
        },
        {
          "output_type": "display_data",
          "data": {
            "text/plain": [
              "<Figure size 640x480 with 3 Axes>"
            ],
            "image/png": "[encoded data removed]"
          },
          "metadata": {}
        }
      ]
    },
    {
      "cell_type": "code",
      "source": [
        "plt.subplot(1,5,1) \n",
        "plt.hist(df['cm'], ec=\"black\") \n",
        "plt.title('Altura')\n",
        "plt.xlabel('Altura')\n",
        "plt.ylabel('Jogadores')\n",
        "\n",
        "plt.subplot(1,5,3) \n",
        "plt.hist(df['Age'], ec=\"black\") \n",
        "plt.title('Idade')\n",
        "plt.xlabel('Idade')\n",
        "plt.ylabel('Jogadores')"
      ],
      "metadata": {
        "colab": {
          "base_uri": "https://localhost:8080/",
          "height": 489
        },
        "id": "KW8vReKIZC9n",
        "outputId": "5daccfe9-5336-4050-a042-9cd55cf6fb1d"
      },
      "execution_count": 32,
      "outputs": [
        {
          "output_type": "execute_result",
          "data": {
            "text/plain": [
              "Text(0, 0.5, 'Jogadores')"
            ]
          },
          "metadata": {},
          "execution_count": 32
        },
        {
          "output_type": "display_data",
          "data": {
            "text/plain": [
              "<Figure size 640x480 with 2 Axes>"
            ],
            "image/png": "[encoded data removed]"
          },
          "metadata": {}
        }
      ]
    }
  ]
}